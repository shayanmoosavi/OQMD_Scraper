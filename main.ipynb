{
 "cells": [
  {
   "cell_type": "code",
   "execution_count": 1,
   "metadata": {
    "collapsed": true
   },
   "outputs": [],
   "source": [
    "import pandas as pd"
   ]
  },
  {
   "cell_type": "code",
   "execution_count": 4,
   "outputs": [],
   "source": [
    "molecule_groups = [\"B2\", \"B\", \"C2\", \"C\", \"N2\", \"N\", \"O2\", \"O\", \"P2\", \"P\", \"S2\", \"S\"]\n",
    "\n",
    "for molecule_group in molecule_groups:\n",
    "\n",
    "    df = pd.read_csv(f\"./data/post_processed/M{molecule_group}-stable.dat\")\n",
    "    df[\"DeltaE\"] = df[\"Total_Energy_per_atom\"] - df[\"OQMD_Total_Energy_per_atom\"]\n",
    "    df.to_csv(f\"M{molecule_group}-stable.csv\")\n"
   ],
   "metadata": {
    "collapsed": false
   }
  },
  {
   "cell_type": "code",
   "execution_count": null,
   "outputs": [],
   "source": [],
   "metadata": {
    "collapsed": false
   }
  }
 ],
 "metadata": {
  "kernelspec": {
   "display_name": "Python 3",
   "language": "python",
   "name": "python3"
  },
  "language_info": {
   "codemirror_mode": {
    "name": "ipython",
    "version": 2
   },
   "file_extension": ".py",
   "mimetype": "text/x-python",
   "name": "python",
   "nbconvert_exporter": "python",
   "pygments_lexer": "ipython2",
   "version": "2.7.6"
  }
 },
 "nbformat": 4,
 "nbformat_minor": 0
}
